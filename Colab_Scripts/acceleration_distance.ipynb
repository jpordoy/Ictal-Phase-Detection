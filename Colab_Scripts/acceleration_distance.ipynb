{
 "cells": [
  {
   "cell_type": "code",
   "execution_count": null,
   "metadata": {},
   "outputs": [],
   "source": [
    "import numpy as np\n",
    "import pandas as pd\n",
    "df = pd.read_csv(\"orderd_base_dataset.csv\")\n",
    "\n",
    "# Function to calculate overall distance traveled for each row\n",
    "def calculate_overall_distance(row):\n",
    "    if not pd.isnull(row['rawData']):\n",
    "        acceleration_values = np.array(row['rawData'].strip('[]').split(',')).astype(float)\n",
    "        time_interval = 1  # Assuming time interval is 1 second\n",
    "\n",
    "        # Convert acceleration values from milli-g to m/s^2\n",
    "        acceleration_mps2 = acceleration_values * 9.81 / 1000  # 1 g = 9.81 m/s^2\n",
    "        \n",
    "        # Integrate acceleration values twice to obtain distance traveled\n",
    "        velocity = np.cumsum(acceleration_mps2 * time_interval)\n",
    "        displacement = np.cumsum(velocity * time_interval)\n",
    "        \n",
    "        # Calculate total distance traveled\n",
    "        total_distance = displacement[-1]\n",
    "    else:\n",
    "        total_distance = np.nan\n",
    "    \n",
    "    return total_distance\n",
    "\n",
    "# Apply the function to calculate overall distance for each row\n",
    "df['overall_distance'] = df.apply(calculate_overall_distance, axis=1)\n",
    "\n",
    "# Output the DataFrame with the new 'overall_distance' column\n",
    "print(df)\n",
    "# Output the DataFrame with the new 'overall_distance' column to a CSV file\n",
    "df.to_csv('updated_base_dataset_with_distance_taversed.csv', index=False)\n"
   ]
  },
  {
   "cell_type": "code",
   "execution_count": null,
   "metadata": {},
   "outputs": [],
   "source": [
    "import pandas as pd\n",
    "\n",
    "# Read the CSV file into DataFrame\n",
    "df = pd.read_csv(\"NEW_BASE_DATASET.csv\")\n",
    "\n",
    "# Calculate overall distance traveled for each row\n",
    "df['overall_distance'] = df.loc[:, 'r1':'r125'].sum(axis=1)\n",
    "\n",
    "# Reorder columns\n",
    "cols = list(df.columns)\n",
    "cols.insert(cols.index('r1'), cols.pop(cols.index('overall_distance')))\n",
    "df = df[cols]\n",
    "\n",
    "# Sort the DataFrame based on the 'Id' column\n",
    "df.sort_values(by='Id', inplace=True)\n",
    "\n",
    "# Save the updated DataFrame to a new CSV file\n",
    "df.to_csv(\"NEW_BASE_DATASET_WITH_DISTANCE.csv\", index=False)"
   ]
  }
 ],
 "metadata": {
  "language_info": {
   "name": "python"
  }
 },
 "nbformat": 4,
 "nbformat_minor": 2
}
